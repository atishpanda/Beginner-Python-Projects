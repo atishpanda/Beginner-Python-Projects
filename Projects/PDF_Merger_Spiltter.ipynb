{
 "cells": [
  {
   "cell_type": "code",
   "execution_count": 1,
   "metadata": {},
   "outputs": [
    {
     "name": "stdout",
     "output_type": "stream",
     "text": [
      "Collecting pypdf2\n",
      "  Downloading PyPDF2-2.1.0-py3-none-any.whl (184 kB)\n",
      "     -------------------------------------- 184.9/184.9 KB 1.9 MB/s eta 0:00:00\n",
      "Requirement already satisfied: typing-extensions in c:\\users\\atish.panda\\appdata\\local\\programs\\python\\python38\\lib\\site-packages (from pypdf2) (4.1.1)\n",
      "Installing collected packages: pypdf2\n",
      "Successfully installed pypdf2-2.1.0\n"
     ]
    },
    {
     "name": "stderr",
     "output_type": "stream",
     "text": [
      "WARNING: Ignoring invalid distribution -andas (c:\\users\\atish.panda\\appdata\\local\\programs\\python\\python38\\lib\\site-packages)\n",
      "WARNING: Ignoring invalid distribution -andas (c:\\users\\atish.panda\\appdata\\local\\programs\\python\\python38\\lib\\site-packages)\n",
      "WARNING: Ignoring invalid distribution -andas (c:\\users\\atish.panda\\appdata\\local\\programs\\python\\python38\\lib\\site-packages)\n",
      "WARNING: Ignoring invalid distribution -andas (c:\\users\\atish.panda\\appdata\\local\\programs\\python\\python38\\lib\\site-packages)\n",
      "WARNING: Ignoring invalid distribution -andas (c:\\users\\atish.panda\\appdata\\local\\programs\\python\\python38\\lib\\site-packages)\n",
      "WARNING: Ignoring invalid distribution -andas (c:\\users\\atish.panda\\appdata\\local\\programs\\python\\python38\\lib\\site-packages)\n",
      "WARNING: Ignoring invalid distribution -andas (c:\\users\\atish.panda\\appdata\\local\\programs\\python\\python38\\lib\\site-packages)\n",
      "WARNING: You are using pip version 22.0.4; however, version 22.1.2 is available.\n",
      "You should consider upgrading via the 'c:\\users\\atish.panda\\appdata\\local\\programs\\python\\python38\\python.exe -m pip install --upgrade pip' command.\n"
     ]
    }
   ],
   "source": [
    "!pip install pypdf2"
   ]
  },
  {
   "cell_type": "code",
   "execution_count": 7,
   "metadata": {},
   "outputs": [
    {
     "name": "stdout",
     "output_type": "stream",
     "text": [
      "\n",
      "    Information about C:\\Users\\atish.panda\\Downloads\\H9394873.pdf\n",
      "\n",
      "    Author: None\n",
      "    Creator: wkhtmltopdf 0.12.2.1\n",
      "    Producer: Qt 4.8.6\n",
      "    Subject: None\n",
      "    Title: None\n",
      "    Number of Pages: 2\n",
      "    \n",
      "    \n"
     ]
    },
    {
     "data": {
      "text/plain": [
       "{'/Title': '',\n",
       " '/Creator': 'wkhtmltopdf 0.12.2.1',\n",
       " '/Producer': 'Qt 4.8.6',\n",
       " '/CreationDate': \"D:20210312174057+05'30'\"}"
      ]
     },
     "execution_count": 7,
     "metadata": {},
     "output_type": "execute_result"
    }
   ],
   "source": [
    "# extract document info -----> source article https://realpython.com/pdf-python/\n",
    "\n",
    "# We will extract the following information from a pdf file\n",
    "#   Author\n",
    "#   Creator\n",
    "#   Producer\n",
    "#   Subject\n",
    "#   Title\n",
    "#   Number of Pages \n",
    "\n",
    "from PyPDF2 import PdfFileReader\n",
    "\n",
    "def extract_pdf_info(pdf_path):\n",
    "    with open(pdf_path, \"rb\") as file:\n",
    "        pdf = PdfFileReader(file)\n",
    "        pdf_info = pdf.getDocumentInfo()\n",
    "        number_of_pages = pdf.getNumPages()\n",
    "\n",
    "    data = f\"\"\"\n",
    "    Information about {pdf_path}\n",
    "\n",
    "    Author: {pdf_info.author}\n",
    "    Creator: {pdf_info.creator}\n",
    "    Producer: {pdf_info.producer}\n",
    "    Subject: {pdf_info.subject}\n",
    "    Title: {pdf_info.title}\n",
    "    Number of Pages: {number_of_pages}\n",
    "    \n",
    "    \"\"\"\n",
    "    print(data)\n",
    "    return pdf_info\n",
    "\n",
    "\n",
    "extract_pdf_info(r\"C:\\Users\\atish.panda\\Downloads\\H9394873.pdf\")"
   ]
  },
  {
   "cell_type": "code",
   "execution_count": null,
   "metadata": {},
   "outputs": [],
   "source": []
  },
  {
   "cell_type": "code",
   "execution_count": null,
   "metadata": {},
   "outputs": [],
   "source": []
  },
  {
   "cell_type": "code",
   "execution_count": null,
   "metadata": {},
   "outputs": [],
   "source": []
  },
  {
   "cell_type": "code",
   "execution_count": null,
   "metadata": {},
   "outputs": [],
   "source": []
  },
  {
   "cell_type": "code",
   "execution_count": null,
   "metadata": {},
   "outputs": [],
   "source": []
  },
  {
   "cell_type": "code",
   "execution_count": 8,
   "metadata": {},
   "outputs": [
    {
     "name": "stdout",
     "output_type": "stream",
     "text": [
      "Collecting aspose-words"
     ]
    },
    {
     "name": "stderr",
     "output_type": "stream",
     "text": [
      "WARNING: Ignoring invalid distribution -andas (c:\\users\\atish.panda\\appdata\\local\\programs\\python\\python38\\lib\\site-packages)\n",
      "WARNING: Ignoring invalid distribution -andas (c:\\users\\atish.panda\\appdata\\local\\programs\\python\\python38\\lib\\site-packages)\n",
      "WARNING: Ignoring invalid distribution -andas (c:\\users\\atish.panda\\appdata\\local\\programs\\python\\python38\\lib\\site-packages)\n",
      "WARNING: Ignoring invalid distribution -andas (c:\\users\\atish.panda\\appdata\\local\\programs\\python\\python38\\lib\\site-packages)\n",
      "WARNING: Ignoring invalid distribution -andas (c:\\users\\atish.panda\\appdata\\local\\programs\\python\\python38\\lib\\site-packages)\n",
      "WARNING: Ignoring invalid distribution -andas (c:\\users\\atish.panda\\appdata\\local\\programs\\python\\python38\\lib\\site-packages)\n",
      "WARNING: Ignoring invalid distribution -andas (c:\\users\\atish.panda\\appdata\\local\\programs\\python\\python38\\lib\\site-packages)\n",
      "WARNING: You are using pip version 22.0.4; however, version 22.1.2 is available.\n",
      "You should consider upgrading via the 'c:\\users\\atish.panda\\appdata\\local\\programs\\python\\python38\\python.exe -m pip install --upgrade pip' command.\n"
     ]
    },
    {
     "name": "stdout",
     "output_type": "stream",
     "text": [
      "\n",
      "  Downloading aspose_words-22.6.0-py3-none-win_amd64.whl (53.0 MB)\n",
      "     --------------------------------------- 53.0/53.0 MB 14.6 MB/s eta 0:00:00\n",
      "Installing collected packages: aspose-words\n",
      "Successfully installed aspose-words-22.6.0\n"
     ]
    }
   ],
   "source": [
    "#  library to convert PDF to EPUB format\n",
    "!pip install aspose-words"
   ]
  },
  {
   "cell_type": "code",
   "execution_count": 34,
   "metadata": {},
   "outputs": [
    {
     "name": "stdout",
     "output_type": "stream",
     "text": [
      "C:\\Users\\atish.panda\\Downloads\\educative-courses-master\\A Complete Guide to Launching Your Website_ From Local to Live - Learn Interactively\n"
     ]
    },
    {
     "ename": "TypeError",
     "evalue": "join() argument must be str, bytes, or os.PathLike object, not 'list'",
     "output_type": "error",
     "traceback": [
      "\u001b[1;31m---------------------------------------------------------------------------\u001b[0m",
      "\u001b[1;31mTypeError\u001b[0m                                 Traceback (most recent call last)",
      "\u001b[1;32mc:\\Personal Project Work\\Beginner-Python-Projects\\Projects\\PDF_Merger_Spiltter.ipynb Cell 9'\u001b[0m in \u001b[0;36m<cell line: 53>\u001b[1;34m()\u001b[0m\n\u001b[0;32m     <a href='vscode-notebook-cell:/c%3A/Personal%20Project%20Work/Beginner-Python-Projects/Projects/PDF_Merger_Spiltter.ipynb#ch0000008?line=49'>50</a>\u001b[0m     \u001b[39m#  secnf process iterate through those directory list\u001b[39;00m\n\u001b[0;32m     <a href='vscode-notebook-cell:/c%3A/Personal%20Project%20Work/Beginner-Python-Projects/Projects/PDF_Merger_Spiltter.ipynb#ch0000008?line=50'>51</a>\u001b[0m     iterate_dir_list(dir_list)\n\u001b[1;32m---> <a href='vscode-notebook-cell:/c%3A/Personal%20Project%20Work/Beginner-Python-Projects/Projects/PDF_Merger_Spiltter.ipynb#ch0000008?line=52'>53</a>\u001b[0m main()\n",
      "\u001b[1;32mc:\\Personal Project Work\\Beginner-Python-Projects\\Projects\\PDF_Merger_Spiltter.ipynb Cell 9'\u001b[0m in \u001b[0;36mmain\u001b[1;34m()\u001b[0m\n\u001b[0;32m     <a href='vscode-notebook-cell:/c%3A/Personal%20Project%20Work/Beginner-Python-Projects/Projects/PDF_Merger_Spiltter.ipynb#ch0000008?line=48'>49</a>\u001b[0m dir_list \u001b[39m=\u001b[39m iterate_folders_subfolders(config[\u001b[39m\"\u001b[39m\u001b[39minput_folder_path\u001b[39m\u001b[39m\"\u001b[39m])\n\u001b[0;32m     <a href='vscode-notebook-cell:/c%3A/Personal%20Project%20Work/Beginner-Python-Projects/Projects/PDF_Merger_Spiltter.ipynb#ch0000008?line=49'>50</a>\u001b[0m \u001b[39m#  secnf process iterate through those directory list\u001b[39;00m\n\u001b[1;32m---> <a href='vscode-notebook-cell:/c%3A/Personal%20Project%20Work/Beginner-Python-Projects/Projects/PDF_Merger_Spiltter.ipynb#ch0000008?line=50'>51</a>\u001b[0m iterate_dir_list(dir_list)\n",
      "\u001b[1;32mc:\\Personal Project Work\\Beginner-Python-Projects\\Projects\\PDF_Merger_Spiltter.ipynb Cell 9'\u001b[0m in \u001b[0;36miterate_dir_list\u001b[1;34m(dir_list)\u001b[0m\n\u001b[0;32m     <a href='vscode-notebook-cell:/c%3A/Personal%20Project%20Work/Beginner-Python-Projects/Projects/PDF_Merger_Spiltter.ipynb#ch0000008?line=36'>37</a>\u001b[0m \u001b[39mfor\u001b[39;00m directory \u001b[39min\u001b[39;00m dir_list:\n\u001b[0;32m     <a href='vscode-notebook-cell:/c%3A/Personal%20Project%20Work/Beginner-Python-Projects/Projects/PDF_Merger_Spiltter.ipynb#ch0000008?line=37'>38</a>\u001b[0m     \u001b[39m# past list of file in the directory and output filename\u001b[39;00m\n\u001b[0;32m     <a href='vscode-notebook-cell:/c%3A/Personal%20Project%20Work/Beginner-Python-Projects/Projects/PDF_Merger_Spiltter.ipynb#ch0000008?line=38'>39</a>\u001b[0m     \u001b[39m# outputfile_name\u001b[39;00m\n\u001b[0;32m     <a href='vscode-notebook-cell:/c%3A/Personal%20Project%20Work/Beginner-Python-Projects/Projects/PDF_Merger_Spiltter.ipynb#ch0000008?line=39'>40</a>\u001b[0m     \u001b[39m# op_file = os.path.basename(directory) + config[\"output_file_extension\"]\u001b[39;00m\n\u001b[0;32m     <a href='vscode-notebook-cell:/c%3A/Personal%20Project%20Work/Beginner-Python-Projects/Projects/PDF_Merger_Spiltter.ipynb#ch0000008?line=40'>41</a>\u001b[0m     \u001b[39m# merge_pdf_and_convert_to_epub(os.listdir(directory),os.path.join(directory,op_file))\u001b[39;00m\n\u001b[0;32m     <a href='vscode-notebook-cell:/c%3A/Personal%20Project%20Work/Beginner-Python-Projects/Projects/PDF_Merger_Spiltter.ipynb#ch0000008?line=41'>42</a>\u001b[0m     \u001b[39mprint\u001b[39m(directory)\n\u001b[1;32m---> <a href='vscode-notebook-cell:/c%3A/Personal%20Project%20Work/Beginner-Python-Projects/Projects/PDF_Merger_Spiltter.ipynb#ch0000008?line=42'>43</a>\u001b[0m     \u001b[39mprint\u001b[39m(os\u001b[39m.\u001b[39;49mpath\u001b[39m.\u001b[39;49mjoin(directory,os\u001b[39m.\u001b[39;49mlistdir(directory)))\n\u001b[0;32m     <a href='vscode-notebook-cell:/c%3A/Personal%20Project%20Work/Beginner-Python-Projects/Projects/PDF_Merger_Spiltter.ipynb#ch0000008?line=43'>44</a>\u001b[0m     \u001b[39mbreak\u001b[39;00m\n",
      "File \u001b[1;32mc:\\Users\\atish.panda\\AppData\\Local\\Programs\\Python\\Python38\\lib\\ntpath.py:117\u001b[0m, in \u001b[0;36mjoin\u001b[1;34m(path, *paths)\u001b[0m\n\u001b[0;32m    <a href='file:///c%3A/Users/atish.panda/AppData/Local/Programs/Python/Python38/lib/ntpath.py?line=114'>115</a>\u001b[0m     \u001b[39mreturn\u001b[39;00m result_drive \u001b[39m+\u001b[39m result_path\n\u001b[0;32m    <a href='file:///c%3A/Users/atish.panda/AppData/Local/Programs/Python/Python38/lib/ntpath.py?line=115'>116</a>\u001b[0m \u001b[39mexcept\u001b[39;00m (\u001b[39mTypeError\u001b[39;00m, \u001b[39mAttributeError\u001b[39;00m, \u001b[39mBytesWarning\u001b[39;00m):\n\u001b[1;32m--> <a href='file:///c%3A/Users/atish.panda/AppData/Local/Programs/Python/Python38/lib/ntpath.py?line=116'>117</a>\u001b[0m     genericpath\u001b[39m.\u001b[39;49m_check_arg_types(\u001b[39m'\u001b[39;49m\u001b[39mjoin\u001b[39;49m\u001b[39m'\u001b[39;49m, path, \u001b[39m*\u001b[39;49mpaths)\n\u001b[0;32m    <a href='file:///c%3A/Users/atish.panda/AppData/Local/Programs/Python/Python38/lib/ntpath.py?line=117'>118</a>\u001b[0m     \u001b[39mraise\u001b[39;00m\n",
      "File \u001b[1;32mc:\\Users\\atish.panda\\AppData\\Local\\Programs\\Python\\Python38\\lib\\genericpath.py:152\u001b[0m, in \u001b[0;36m_check_arg_types\u001b[1;34m(funcname, *args)\u001b[0m\n\u001b[0;32m    <a href='file:///c%3A/Users/atish.panda/AppData/Local/Programs/Python/Python38/lib/genericpath.py?line=149'>150</a>\u001b[0m         hasbytes \u001b[39m=\u001b[39m \u001b[39mTrue\u001b[39;00m\n\u001b[0;32m    <a href='file:///c%3A/Users/atish.panda/AppData/Local/Programs/Python/Python38/lib/genericpath.py?line=150'>151</a>\u001b[0m     \u001b[39melse\u001b[39;00m:\n\u001b[1;32m--> <a href='file:///c%3A/Users/atish.panda/AppData/Local/Programs/Python/Python38/lib/genericpath.py?line=151'>152</a>\u001b[0m         \u001b[39mraise\u001b[39;00m \u001b[39mTypeError\u001b[39;00m(\u001b[39mf\u001b[39m\u001b[39m'\u001b[39m\u001b[39m{\u001b[39;00mfuncname\u001b[39m}\u001b[39;00m\u001b[39m() argument must be str, bytes, or \u001b[39m\u001b[39m'\u001b[39m\n\u001b[0;32m    <a href='file:///c%3A/Users/atish.panda/AppData/Local/Programs/Python/Python38/lib/genericpath.py?line=152'>153</a>\u001b[0m                         \u001b[39mf\u001b[39m\u001b[39m'\u001b[39m\u001b[39mos.PathLike object, not \u001b[39m\u001b[39m{\u001b[39;00ms\u001b[39m.\u001b[39m\u001b[39m__class__\u001b[39m\u001b[39m.\u001b[39m\u001b[39m__name__\u001b[39m\u001b[39m!r}\u001b[39;00m\u001b[39m'\u001b[39m) \u001b[39mfrom\u001b[39;00m \u001b[39mNone\u001b[39m\n\u001b[0;32m    <a href='file:///c%3A/Users/atish.panda/AppData/Local/Programs/Python/Python38/lib/genericpath.py?line=153'>154</a>\u001b[0m \u001b[39mif\u001b[39;00m hasstr \u001b[39mand\u001b[39;00m hasbytes:\n\u001b[0;32m    <a href='file:///c%3A/Users/atish.panda/AppData/Local/Programs/Python/Python38/lib/genericpath.py?line=154'>155</a>\u001b[0m     \u001b[39mraise\u001b[39;00m \u001b[39mTypeError\u001b[39;00m(\u001b[39m\"\u001b[39m\u001b[39mCan\u001b[39m\u001b[39m'\u001b[39m\u001b[39mt mix strings and bytes in path components\u001b[39m\u001b[39m\"\u001b[39m) \u001b[39mfrom\u001b[39;00m \u001b[39mNone\u001b[39m\n",
      "\u001b[1;31mTypeError\u001b[0m: join() argument must be str, bytes, or os.PathLike object, not 'list'"
     ]
    }
   ],
   "source": [
    "# Library used aspose words (aw)\n",
    "# merging multiple file\n",
    "\n",
    "import aspose.words as aw\n",
    "import os\n",
    "\n",
    "config = {}\n",
    "config[\"input_folder_path\"] = r\"C:\\Users\\atish.panda\\Downloads\\educative-courses-master\"\n",
    "config[\"output_file_extension\"] = r\".epub\"\n",
    "\n",
    "def merge_pdf_and_convert_to_epub(pdf_files_list, output_file_name):\n",
    "    output_file = aw.Document()\n",
    "    # remove all content from the output file beffore appending\n",
    "    output_file.remove_all_children()\n",
    "\n",
    "    for file in pdf_files_list:\n",
    "        if file.endswith(\".pdf\"):\n",
    "            input_file = aw.Document(file)\n",
    "            #  append the input_file to the end of output_file\n",
    "            output_file.append_document(input_file, aw.ImportFormatMode.KEEP_SOURCE_FORMATTING)\n",
    "    #  saving the appended files in EPUB format\n",
    "    output_file.save(output_file_name)\n",
    "\n",
    "dir_list = []\n",
    "\n",
    "def iterate_folders_subfolders(path):\n",
    "    for root, dirs, files in os.walk(path):\n",
    "        for dir in dirs:\n",
    "            dir_list.append(os.path.join(root,dir))\n",
    "    return dir_list\n",
    "\n",
    "# dir_list = iterate_folders_subfolders(config[\"input_folder_path\"])\n",
    "\n",
    "# iterate through dir and get files list and alos chose name for  \n",
    "\n",
    "def iterate_dir_list(dir_list):\n",
    "    for directory in dir_list:\n",
    "        # past list of file in the directory and output filename\n",
    "        # outputfile_name\n",
    "        # op_file = os.path.basename(directory) + config[\"output_file_extension\"]\n",
    "        # merge_pdf_and_convert_to_epub(os.listdir(directory),os.path.join(directory,op_file))\n",
    "        print(directory)\n",
    "        os.chdir(directory)\n",
    "        print(os.path.join(directory,os.listdir(directory)))\n",
    "        break\n",
    "\n",
    "\n",
    "def main():\n",
    "    # first process - get directories list\n",
    "    dir_list = iterate_folders_subfolders(config[\"input_folder_path\"])\n",
    "    #  secnf process iterate through those directory list\n",
    "    iterate_dir_list(dir_list)\n",
    "\n",
    "main()\n"
   ]
  },
  {
   "cell_type": "code",
   "execution_count": 27,
   "metadata": {},
   "outputs": [
    {
     "ename": "FileNotFoundError",
     "evalue": "[WinError 3] The system cannot find the path specified: 'C'",
     "output_type": "error",
     "traceback": [
      "\u001b[1;31m---------------------------------------------------------------------------\u001b[0m",
      "\u001b[1;31mFileNotFoundError\u001b[0m                         Traceback (most recent call last)",
      "\u001b[1;32mc:\\Personal Project Work\\Beginner-Python-Projects\\Projects\\PDF_Merger_Spiltter.ipynb Cell 10'\u001b[0m in \u001b[0;36m<cell line: 1>\u001b[1;34m()\u001b[0m\n\u001b[1;32m----> <a href='vscode-notebook-cell:/c%3A/Personal%20Project%20Work/Beginner-Python-Projects/Projects/PDF_Merger_Spiltter.ipynb#ch0000009?line=0'>1</a>\u001b[0m iterate_dir_list(\u001b[39mr\u001b[39;49m\u001b[39m\"\u001b[39;49m\u001b[39mC:\u001b[39;49m\u001b[39m\\\u001b[39;49m\u001b[39mUsers\u001b[39;49m\u001b[39m\\\u001b[39;49m\u001b[39matish.panda\u001b[39;49m\u001b[39m\\\u001b[39;49m\u001b[39mDownloads\u001b[39;49m\u001b[39m\\\u001b[39;49m\u001b[39meducative-courses-master\u001b[39;49m\u001b[39m\\\u001b[39;49m\u001b[39mA Practical Guide to Kubernetes - Learn Interactively\u001b[39;49m\u001b[39m\"\u001b[39;49m)\n",
      "\u001b[1;32mc:\\Personal Project Work\\Beginner-Python-Projects\\Projects\\PDF_Merger_Spiltter.ipynb Cell 9'\u001b[0m in \u001b[0;36miterate_dir_list\u001b[1;34m(dir_list)\u001b[0m\n\u001b[0;32m     <a href='vscode-notebook-cell:/c%3A/Personal%20Project%20Work/Beginner-Python-Projects/Projects/PDF_Merger_Spiltter.ipynb#ch0000008?line=35'>36</a>\u001b[0m \u001b[39mdef\u001b[39;00m \u001b[39miterate_dir_list\u001b[39m(dir_list):\n\u001b[0;32m     <a href='vscode-notebook-cell:/c%3A/Personal%20Project%20Work/Beginner-Python-Projects/Projects/PDF_Merger_Spiltter.ipynb#ch0000008?line=36'>37</a>\u001b[0m     \u001b[39mfor\u001b[39;00m path \u001b[39min\u001b[39;00m dir_list:\n\u001b[1;32m---> <a href='vscode-notebook-cell:/c%3A/Personal%20Project%20Work/Beginner-Python-Projects/Projects/PDF_Merger_Spiltter.ipynb#ch0000008?line=37'>38</a>\u001b[0m         \u001b[39mprint\u001b[39m(os\u001b[39m.\u001b[39;49mlistdir(path))        \n\u001b[0;32m     <a href='vscode-notebook-cell:/c%3A/Personal%20Project%20Work/Beginner-Python-Projects/Projects/PDF_Merger_Spiltter.ipynb#ch0000008?line=38'>39</a>\u001b[0m         \u001b[39mbreak\u001b[39;00m\n",
      "\u001b[1;31mFileNotFoundError\u001b[0m: [WinError 3] The system cannot find the path specified: 'C'"
     ]
    }
   ],
   "source": [
    "iterate_dir_list(r\"C:\\Users\\atish.panda\\Downloads\\educative-courses-master\\A Practical Guide to Kubernetes - Learn Interactively\")"
   ]
  },
  {
   "cell_type": "code",
   "execution_count": 20,
   "metadata": {},
   "outputs": [
    {
     "data": {
      "text/plain": [
       "'C:\\\\Users\\\\atish.panda\\\\Downloads\\\\educative-courses-master\\\\A Complete Guide to Launching Your Website_ From Local to Live - Learn Interactively'"
      ]
     },
     "execution_count": 20,
     "metadata": {},
     "output_type": "execute_result"
    }
   ],
   "source": [
    "dir_list[0]"
   ]
  },
  {
   "cell_type": "code",
   "execution_count": 21,
   "metadata": {},
   "outputs": [
    {
     "data": {
      "text/plain": [
       "'A Complete Guide to Launching Your Website_ From Local to Live - Learn Interactively'"
      ]
     },
     "execution_count": 21,
     "metadata": {},
     "output_type": "execute_result"
    }
   ],
   "source": [
    "os.path.basename(dir_list[0])"
   ]
  },
  {
   "cell_type": "code",
   "execution_count": null,
   "metadata": {},
   "outputs": [],
   "source": []
  }
 ],
 "metadata": {
  "interpreter": {
   "hash": "e5cf268439eddf61ad37bad768a6371fa88c0de579168edb65ec6bbe41af8c40"
  },
  "kernelspec": {
   "display_name": "Python 3.8.8 64-bit",
   "language": "python",
   "name": "python3"
  },
  "language_info": {
   "codemirror_mode": {
    "name": "ipython",
    "version": 3
   },
   "file_extension": ".py",
   "mimetype": "text/x-python",
   "name": "python",
   "nbconvert_exporter": "python",
   "pygments_lexer": "ipython3",
   "version": "3.8.8"
  },
  "orig_nbformat": 4
 },
 "nbformat": 4,
 "nbformat_minor": 2
}
